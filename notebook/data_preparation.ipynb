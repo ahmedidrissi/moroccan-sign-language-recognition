{
 "cells": [
  {
   "cell_type": "code",
   "execution_count": 2,
   "metadata": {},
   "outputs": [],
   "source": [
    "import os\n",
    "import pickle\n",
    "import pandas as pd \n",
    "import numpy as np\n",
    "import matplotlib.pyplot as plt\n",
    "%matplotlib inline"
   ]
  },
  {
   "cell_type": "code",
   "execution_count": 3,
   "metadata": {},
   "outputs": [],
   "source": [
    "DATA_PATH = '../data/raw'\n",
    "ALPHABETS_PATH = DATA_PATH + '/alphabets'\n",
    "LABELS_PATH = DATA_PATH + '/labels.csv'"
   ]
  },
  {
   "cell_type": "code",
   "execution_count": 4,
   "metadata": {},
   "outputs": [
    {
     "data": {
      "text/plain": [
       "(54049, 3)"
      ]
     },
     "execution_count": 4,
     "metadata": {},
     "output_type": "execute_result"
    }
   ],
   "source": [
    "labels_df = pd.read_csv(LABELS_PATH)\n",
    "labels_df.shape"
   ]
  },
  {
   "cell_type": "code",
   "execution_count": 5,
   "metadata": {},
   "outputs": [
    {
     "data": {
      "text/html": [
       "<div>\n",
       "<style scoped>\n",
       "    .dataframe tbody tr th:only-of-type {\n",
       "        vertical-align: middle;\n",
       "    }\n",
       "\n",
       "    .dataframe tbody tr th {\n",
       "        vertical-align: top;\n",
       "    }\n",
       "\n",
       "    .dataframe thead th {\n",
       "        text-align: right;\n",
       "    }\n",
       "</style>\n",
       "<table border=\"1\" class=\"dataframe\">\n",
       "  <thead>\n",
       "    <tr style=\"text-align: right;\">\n",
       "      <th></th>\n",
       "      <th>#</th>\n",
       "      <th>File_Name</th>\n",
       "      <th>Class</th>\n",
       "    </tr>\n",
       "  </thead>\n",
       "  <tbody>\n",
       "    <tr>\n",
       "      <th>0</th>\n",
       "      <td>1</td>\n",
       "      <td>AIN (1).JPG</td>\n",
       "      <td>ain</td>\n",
       "    </tr>\n",
       "    <tr>\n",
       "      <th>1</th>\n",
       "      <td>2</td>\n",
       "      <td>AIN (10).JPG</td>\n",
       "      <td>ain</td>\n",
       "    </tr>\n",
       "    <tr>\n",
       "      <th>2</th>\n",
       "      <td>3</td>\n",
       "      <td>AIN (100).jpg</td>\n",
       "      <td>ain</td>\n",
       "    </tr>\n",
       "    <tr>\n",
       "      <th>3</th>\n",
       "      <td>4</td>\n",
       "      <td>AIN (1000).JPG</td>\n",
       "      <td>ain</td>\n",
       "    </tr>\n",
       "    <tr>\n",
       "      <th>4</th>\n",
       "      <td>5</td>\n",
       "      <td>AIN (1001).JPG</td>\n",
       "      <td>ain</td>\n",
       "    </tr>\n",
       "  </tbody>\n",
       "</table>\n",
       "</div>"
      ],
      "text/plain": [
       "   #       File_Name Class\n",
       "0  1     AIN (1).JPG   ain\n",
       "1  2    AIN (10).JPG   ain\n",
       "2  3   AIN (100).jpg   ain\n",
       "3  4  AIN (1000).JPG   ain\n",
       "4  5  AIN (1001).JPG   ain"
      ]
     },
     "execution_count": 5,
     "metadata": {},
     "output_type": "execute_result"
    }
   ],
   "source": [
    "labels_df.head()"
   ]
  },
  {
   "cell_type": "code",
   "execution_count": 6,
   "metadata": {},
   "outputs": [
    {
     "data": {
      "text/plain": [
       "(array(['ain', 'al', 'aleff', 'bb', 'dal', 'dha', 'dhad', 'fa', 'gaaf',\n",
       "        'ghain', 'ha', 'haa', 'jeem', 'kaaf', 'khaa', 'la', 'laam', 'meem',\n",
       "        'nun', 'ra', 'saad', 'seen', 'sheen', 'ta', 'taa', 'thaa', 'thal',\n",
       "        'toot', 'waw', 'ya', 'yaa', 'zay'], dtype=object),\n",
       " 32)"
      ]
     },
     "execution_count": 6,
     "metadata": {},
     "output_type": "execute_result"
    }
   ],
   "source": [
    "labels_df['Class'].unique(), labels_df['Class'].nunique()"
   ]
  },
  {
   "cell_type": "markdown",
   "metadata": {},
   "source": [
    "_We have 32 letters in total_"
   ]
  },
  {
   "cell_type": "code",
   "execution_count": 7,
   "metadata": {},
   "outputs": [
    {
     "data": {
      "text/plain": [
       "Class\n",
       "ain      2114\n",
       "ghain    1977\n",
       "fa       1955\n",
       "saad     1895\n",
       "taa      1838\n",
       "laam     1832\n",
       "nun      1819\n",
       "ta       1816\n",
       "toot     1791\n",
       "bb       1791\n",
       "kaaf     1774\n",
       "thaa     1766\n",
       "meem     1765\n",
       "la       1746\n",
       "dha      1723\n",
       "ya       1722\n",
       "gaaf     1705\n",
       "aleff    1672\n",
       "dhad     1670\n",
       "ra       1659\n",
       "seen     1638\n",
       "dal      1634\n",
       "khaa     1607\n",
       "ha       1592\n",
       "thal     1582\n",
       "jeem     1552\n",
       "haa      1526\n",
       "sheen    1507\n",
       "zay      1374\n",
       "waw      1371\n",
       "al       1343\n",
       "yaa      1293\n",
       "Name: count, dtype: int64"
      ]
     },
     "execution_count": 7,
     "metadata": {},
     "output_type": "execute_result"
    }
   ],
   "source": [
    "classes = labels_df['Class'].value_counts()\n",
    "classes"
   ]
  },
  {
   "cell_type": "code",
   "execution_count": 8,
   "metadata": {},
   "outputs": [
    {
     "data": {
      "text/plain": [
       "Text(0.5, 1.0, 'Alphabets distribution')"
      ]
     },
     "execution_count": 8,
     "metadata": {},
     "output_type": "execute_result"
    },
    {
     "data": {
      "image/png": "[encoded data removed]",
      "text/plain": [
       "<Figure size 2000x500 with 1 Axes>"
      ]
     },
     "metadata": {},
     "output_type": "display_data"
    }
   ],
   "source": [
    "fig, ax = plt.subplots()\n",
    "fig.set_figwidth(20)\n",
    "fig.set_figheight(5)\n",
    "ax.bar(classes.keys().tolist(), classes.tolist())\n",
    "ax.set_xlabel('alphabet')\n",
    "ax.set_ylabel('count')\n",
    "ax.set_title('Alphabets distribution')"
   ]
  },
  {
   "cell_type": "code",
   "execution_count": 9,
   "metadata": {},
   "outputs": [
    {
     "data": {
      "text/plain": [
       "(1293, 1034.4, 258.6)"
      ]
     },
     "execution_count": 9,
     "metadata": {},
     "output_type": "execute_result"
    }
   ],
   "source": [
    "min(classes), 0.8*min(classes), 0.2*min(classes)"
   ]
  },
  {
   "cell_type": "markdown",
   "metadata": {},
   "source": [
    "_We will use only 1293 images_"
   ]
  },
  {
   "cell_type": "code",
   "execution_count": 10,
   "metadata": {},
   "outputs": [
    {
     "name": "stderr",
     "output_type": "stream",
     "text": [
      "C:\\Users\\HP\\AppData\\Local\\Temp\\ipykernel_18656\\1762290342.py:2: DeprecationWarning: DataFrameGroupBy.apply operated on the grouping columns. This behavior is deprecated, and in a future version of pandas the grouping columns will be excluded from the operation. Either pass `include_groups=False` to exclude the groupings or explicitly select the grouping columns after groupby to silence this warning.\n",
      "  sampled_labels_df = labels_df.groupby('Class', group_keys=False).apply(lambda x: x.sample(n=1293, replace=False))\n"
     ]
    },
    {
     "data": {
      "text/html": [
       "<div>\n",
       "<style scoped>\n",
       "    .dataframe tbody tr th:only-of-type {\n",
       "        vertical-align: middle;\n",
       "    }\n",
       "\n",
       "    .dataframe tbody tr th {\n",
       "        vertical-align: top;\n",
       "    }\n",
       "\n",
       "    .dataframe thead th {\n",
       "        text-align: right;\n",
       "    }\n",
       "</style>\n",
       "<table border=\"1\" class=\"dataframe\">\n",
       "  <thead>\n",
       "    <tr style=\"text-align: right;\">\n",
       "      <th></th>\n",
       "      <th>#</th>\n",
       "      <th>File_Name</th>\n",
       "      <th>Class</th>\n",
       "    </tr>\n",
       "  </thead>\n",
       "  <tbody>\n",
       "    <tr>\n",
       "      <th>430</th>\n",
       "      <td>431</td>\n",
       "      <td>AIN (1386).jpg</td>\n",
       "      <td>ain</td>\n",
       "    </tr>\n",
       "    <tr>\n",
       "      <th>1590</th>\n",
       "      <td>1591</td>\n",
       "      <td>AIN (527).jpg</td>\n",
       "      <td>ain</td>\n",
       "    </tr>\n",
       "    <tr>\n",
       "      <th>606</th>\n",
       "      <td>607</td>\n",
       "      <td>AIN (1544).jpg</td>\n",
       "      <td>ain</td>\n",
       "    </tr>\n",
       "    <tr>\n",
       "      <th>1297</th>\n",
       "      <td>1298</td>\n",
       "      <td>AIN (263).jpg</td>\n",
       "      <td>ain</td>\n",
       "    </tr>\n",
       "    <tr>\n",
       "      <th>1745</th>\n",
       "      <td>1746</td>\n",
       "      <td>AIN (667).jpg</td>\n",
       "      <td>ain</td>\n",
       "    </tr>\n",
       "  </tbody>\n",
       "</table>\n",
       "</div>"
      ],
      "text/plain": [
       "         #       File_Name Class\n",
       "430    431  AIN (1386).jpg   ain\n",
       "1590  1591   AIN (527).jpg   ain\n",
       "606    607  AIN (1544).jpg   ain\n",
       "1297  1298   AIN (263).jpg   ain\n",
       "1745  1746   AIN (667).jpg   ain"
      ]
     },
     "execution_count": 10,
     "metadata": {},
     "output_type": "execute_result"
    }
   ],
   "source": [
    "# Let's group the DataFrame by the 'Class' column and sample 1293 rows from each group\n",
    "sampled_labels_df = labels_df.groupby('Class', group_keys=False).apply(lambda x: x.sample(n=1293, replace=False))\n",
    "sampled_labels_df.head()"
   ]
  },
  {
   "cell_type": "code",
   "execution_count": 11,
   "metadata": {},
   "outputs": [
    {
     "data": {
      "text/plain": [
       "Class\n",
       "ain      1293\n",
       "al       1293\n",
       "yaa      1293\n",
       "ya       1293\n",
       "waw      1293\n",
       "toot     1293\n",
       "thal     1293\n",
       "thaa     1293\n",
       "taa      1293\n",
       "ta       1293\n",
       "sheen    1293\n",
       "seen     1293\n",
       "saad     1293\n",
       "ra       1293\n",
       "nun      1293\n",
       "meem     1293\n",
       "laam     1293\n",
       "la       1293\n",
       "khaa     1293\n",
       "kaaf     1293\n",
       "jeem     1293\n",
       "haa      1293\n",
       "ha       1293\n",
       "ghain    1293\n",
       "gaaf     1293\n",
       "fa       1293\n",
       "dhad     1293\n",
       "dha      1293\n",
       "dal      1293\n",
       "bb       1293\n",
       "aleff    1293\n",
       "zay      1293\n",
       "Name: count, dtype: int64"
      ]
     },
     "execution_count": 11,
     "metadata": {},
     "output_type": "execute_result"
    }
   ],
   "source": [
    "sampled_labels_df['Class'].value_counts()"
   ]
  },
  {
   "cell_type": "markdown",
   "metadata": {},
   "source": [
    "## **Processing images using Mediapipe**"
   ]
  },
  {
   "cell_type": "code",
   "execution_count": 12,
   "metadata": {},
   "outputs": [],
   "source": [
    "import mediapipe as mp\n",
    "import cv2"
   ]
  },
  {
   "cell_type": "code",
   "execution_count": 145,
   "metadata": {},
   "outputs": [
    {
     "name": "stdout",
     "output_type": "stream",
     "text": [
      "Alphabet: ain (1/32)\t| Total images:  1293\n",
      "Alphabet: al (2/32)\t| Total images:  1293\n",
      "Alphabet: aleff (3/32)\t| Total images:  1293\n",
      "Alphabet: bb (4/32)\t| Total images:  1293\n",
      "Alphabet: dal (5/32)\t| Total images:  1293\n",
      "Alphabet: dha (6/32)\t| Total images:  1293\n",
      "Alphabet: dhad (7/32)\t| Total images:  1293\n",
      "Alphabet: fa (8/32)\t| Total images:  1293\n",
      "Alphabet: gaaf (9/32)\t| Total images:  1293\n",
      "Alphabet: ghain (10/32)\t| Total images:  1293\n",
      "Alphabet: ha (11/32)\t| Total images:  1293\n",
      "Alphabet: haa (12/32)\t| Total images:  1293\n",
      "Alphabet: jeem (13/32)\t| Total images:  1293\n",
      "Alphabet: kaaf (14/32)\t| Total images:  1293\n",
      "Alphabet: khaa (15/32)\t| Total images:  1293\n",
      "Alphabet: la (16/32)\t| Total images:  1293\n",
      "Alphabet: laam (17/32)\t| Total images:  1293\n",
      "Alphabet: meem (18/32)\t| Total images:  1293\n",
      "Alphabet: nun (19/32)\t| Total images:  1293\n",
      "Alphabet: ra (20/32)\t| Total images:  1293\n",
      "Alphabet: saad (21/32)\t| Total images:  1293\n",
      "Alphabet: seen (22/32)\t| Total images:  1293\n",
      "Alphabet: sheen (23/32)\t| Total images:  1293\n",
      "Alphabet: ta (24/32)\t| Total images:  1293\n",
      "Alphabet: taa (25/32)\t| Total images:  1293\n",
      "Alphabet: thaa (26/32)\t| Total images:  1293\n",
      "Alphabet: thal (27/32)\t| Total images:  1293\n",
      "Alphabet: toot (28/32)\t| Total images:  1293\n",
      "Alphabet: waw (29/32)\t| Total images:  1293\n",
      "Alphabet: ya (30/32)\t| Total images:  1293\n",
      "Alphabet: yaa (31/32)\t| Total images:  1293\n",
      "Alphabet: zay (32/32)\t| Total images:  1293\n"
     ]
    }
   ],
   "source": [
    "mp_hands = mp.solutions.hands\n",
    "mp_drawing = mp.solutions.drawing_utils\n",
    "mp_drawing_styles = mp.solutions.drawing_styles\n",
    "hands = mp_hands.Hands(static_image_mode=True, min_detection_confidence=0.3)\n",
    "\n",
    "data = []\n",
    "labels = []\n",
    "\n",
    "folders = os.listdir(ALPHABETS_PATH) # List of all alphabet directories\n",
    "for i, alphabet_dir in enumerate(folders):\n",
    "    print(f\"Alphabet: {alphabet_dir} ({i+1}/{len(folders)})\")\n",
    "\n",
    "    # Get the list of all files in the current alphabet directory\n",
    "    files = os.listdir(os.path.join(ALPHABETS_PATH, alphabet_dir))\n",
    "    \n",
    "    # Filter files that are in the sampled DataFrame\n",
    "    filtered_files = [file for file in files if file in sampled_labels_df['File_Name'].tolist()]\n",
    "\n",
    "    for file_name in filtered_files:\n",
    "            \n",
    "        data_aux = []\n",
    "\n",
    "        x_ = []\n",
    "        y_ = []\n",
    "\n",
    "        img = cv2.imread(os.path.join(ALPHABETS_PATH, alphabet_dir, file_name))\n",
    "        img_rgb = cv2.cvtColor(img, cv2.COLOR_BGR2RGB)\n",
    "\n",
    "        results = hands.process(img_rgb)\n",
    "        if results.multi_hand_landmarks:\n",
    "            for hand_landmarks in results.multi_hand_landmarks:\n",
    "                for i in range(len(hand_landmarks.landmark)):\n",
    "                    x = hand_landmarks.landmark[i].x\n",
    "                    y = hand_landmarks.landmark[i].y\n",
    "\n",
    "                    x_.append(x)\n",
    "                    y_.append(y)\n",
    "\n",
    "                for i in range(len(hand_landmarks.landmark)):\n",
    "                    x = hand_landmarks.landmark[i].x\n",
    "                    y = hand_landmarks.landmark[i].y\n",
    "                    data_aux.append(x - min(x_))\n",
    "                    data_aux.append(y - min(y_))\n",
    "\n",
    "            data.append(data_aux)\n",
    "            labels.append(alphabet_dir)"
   ]
  },
  {
   "cell_type": "code",
   "execution_count": 146,
   "metadata": {},
   "outputs": [],
   "source": [
    "f = open('../data/processed/data.pickle', 'wb')\n",
    "pickle.dump({'data': data, 'labels': labels}, f)\n",
    "f.close()"
   ]
  },
  {
   "cell_type": "markdown",
   "metadata": {},
   "source": [
    "## **Processing images using tensorflow**"
   ]
  },
  {
   "cell_type": "code",
   "execution_count": 22,
   "metadata": {},
   "outputs": [],
   "source": [
    "from sklearn.model_selection import train_test_split\n",
    "import keras"
   ]
  },
  {
   "cell_type": "code",
   "execution_count": 19,
   "metadata": {},
   "outputs": [
    {
     "name": "stdout",
     "output_type": "stream",
     "text": [
      "Alphabet: ain (1/32)\n",
      "Alphabet: al (2/32)\n",
      "Alphabet: aleff (3/32)\n",
      "Alphabet: bb (4/32)\n",
      "Alphabet: dal (5/32)\n",
      "Alphabet: dha (6/32)\n",
      "Alphabet: dhad (7/32)\n",
      "Alphabet: fa (8/32)\n",
      "Alphabet: gaaf (9/32)\n",
      "Alphabet: ghain (10/32)\n",
      "Alphabet: ha (11/32)\n",
      "Alphabet: haa (12/32)\n",
      "Alphabet: jeem (13/32)\n",
      "Alphabet: kaaf (14/32)\n",
      "Alphabet: khaa (15/32)\n",
      "Alphabet: la (16/32)\n",
      "Alphabet: laam (17/32)\n",
      "Alphabet: meem (18/32)\n",
      "Alphabet: nun (19/32)\n",
      "Alphabet: ra (20/32)\n",
      "Alphabet: saad (21/32)\n",
      "Alphabet: seen (22/32)\n",
      "Alphabet: sheen (23/32)\n",
      "Alphabet: ta (24/32)\n",
      "Alphabet: taa (25/32)\n",
      "Alphabet: thaa (26/32)\n",
      "Alphabet: thal (27/32)\n",
      "Alphabet: toot (28/32)\n",
      "Alphabet: waw (29/32)\n",
      "Alphabet: ya (30/32)\n",
      "Alphabet: yaa (31/32)\n",
      "Alphabet: zay (32/32)\n"
     ]
    }
   ],
   "source": [
    "folders = os.listdir(ALPHABETS_PATH) # List of all alphabet directories\n",
    "images = []\n",
    "labels = []\n",
    "for i, alphabet_dir in enumerate(folders):\n",
    "    print(f\"Alphabet: {alphabet_dir} ({i+1}/{len(folders)})\")\n",
    "\n",
    "    # Get the list of all files in the current alphabet directory\n",
    "    files = os.listdir(os.path.join(ALPHABETS_PATH, alphabet_dir))\n",
    "    \n",
    "    # Filter files that are in the sampled DataFrame\n",
    "    filtered_files = [file for file in files if file in sampled_labels_df['File_Name'].tolist()]\n",
    "\n",
    "    for file_name in filtered_files:\n",
    "        file_path = os.path.join(ALPHABETS_PATH, alphabet_dir, file_name)\n",
    "        image = cv2.resize(cv2.imread(file_path), (64, 64))\n",
    "        images.append(image)\n",
    "        labels.append(i)\n",
    "images = np.array(images)\n",
    "labels = np.array(labels)\n",
    "        "
   ]
  },
  {
   "cell_type": "code",
   "execution_count": 20,
   "metadata": {},
   "outputs": [
    {
     "data": {
      "text/plain": [
       "(41376, 64, 64, 3)"
      ]
     },
     "execution_count": 20,
     "metadata": {},
     "output_type": "execute_result"
    }
   ],
   "source": [
    "images.shape"
   ]
  },
  {
   "cell_type": "code",
   "execution_count": null,
   "metadata": {},
   "outputs": [
    {
     "name": "stdout",
     "output_type": "stream",
     "text": [
      "Training images:  29790\n",
      "Testing images:  7448\n",
      "Evaluation images:  4138\n"
     ]
    }
   ],
   "source": [
    "X_train, X_eval, y_train, y_eval = train_test_split(images, labels, test_size = 0.1, stratify = labels)\n",
    "X_train, X_test, y_train, y_test = train_test_split(X_train, y_train, test_size = 0.2, stratify = y_train)\n",
    "\n",
    "print(\"Training images: \" , len(X_train))\n",
    "print(\"Testing images: \", len(X_test))\n",
    "print(\"Evaluation images: \", len(X_eval))"
   ]
  },
  {
   "cell_type": "code",
   "execution_count": 23,
   "metadata": {},
   "outputs": [],
   "source": [
    "y_train = keras.utils.to_categorical(y_train)\n",
    "y_test = keras.utils.to_categorical(y_test)\n",
    "y_eval = keras.utils.to_categorical(y_eval)"
   ]
  },
  {
   "cell_type": "code",
   "execution_count": 26,
   "metadata": {},
   "outputs": [
    {
     "name": "stdout",
     "output_type": "stream",
     "text": [
      "[0. 0. 0. 0. 0. 0. 0. 0. 0. 0. 0. 0. 0. 0. 0. 0. 0. 0. 0. 0. 0. 0. 0. 0.\n",
      " 0. 0. 0. 0. 1. 0. 0. 0.]\n",
      "32\n"
     ]
    }
   ],
   "source": [
    "print(y_train[0])\n",
    "print(len(y_train[0]))"
   ]
  },
  {
   "cell_type": "code",
   "execution_count": 27,
   "metadata": {},
   "outputs": [],
   "source": [
    "X_train = X_train.astype('float32')/255.0\n",
    "X_test = X_test.astype('float32')/255.0\n",
    "X_eval = X_eval.astype('float32')/255.0"
   ]
  },
  {
   "cell_type": "code",
   "execution_count": 31,
   "metadata": {},
   "outputs": [],
   "source": [
    "np.save('../data/processed/X_train.npy', X_train)\n",
    "np.save('../data/processed/X_test.npy', X_test)\n",
    "np.save('../data/processed/X_eval.npy', X_eval)"
   ]
  },
  {
   "cell_type": "code",
   "execution_count": 32,
   "metadata": {},
   "outputs": [],
   "source": [
    "np.save('../data/processed/y_train.npy', y_train)\n",
    "np.save('../data/processed/y_test.npy', y_test)\n",
    "np.save('../data/processed/y_eval.npy', y_eval)"
   ]
  },
  {
   "cell_type": "code",
   "execution_count": null,
   "metadata": {},
   "outputs": [],
   "source": []
  }
 ],
 "metadata": {
  "kernelspec": {
   "display_name": ".venv",
   "language": "python",
   "name": "python3"
  },
  "language_info": {
   "codemirror_mode": {
    "name": "ipython",
    "version": 3
   },
   "file_extension": ".py",
   "mimetype": "text/x-python",
   "name": "python",
   "nbconvert_exporter": "python",
   "pygments_lexer": "ipython3",
   "version": "3.11.6"
  }
 },
 "nbformat": 4,
 "nbformat_minor": 2
}
